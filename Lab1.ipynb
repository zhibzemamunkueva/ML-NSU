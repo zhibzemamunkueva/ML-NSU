{
 "cells": [
  {
   "cell_type": "code",
   "execution_count": 37,
   "metadata": {},
   "outputs": [],
   "source": [
    "class Accountant:\n",
    "    def give_salary(self, worker):\n",
    "        worker.take_salary()\n",
    "\n",
    "class Pupa:\n",
    "    def __init__(self, salary=100):\n",
    "        self.counter = 0\n",
    "        self.salary = salary\n",
    "\n",
    "    def take_salary(self):\n",
    "        self.counter += self.salary\n",
    "\n",
    "    def do_work(self, spisok1, spisok2):\n",
    "        print('Pupa does work: ', [x + y for x, y in zip(spisok1, spisok2)])\n",
    "\n",
    "class Lupa:\n",
    "    def __init__(self, salary=200):\n",
    "        self.counter = 0\n",
    "        self.salary = salary\n",
    "\n",
    "    def take_salary(self):\n",
    "        self.counter += self.salary\n",
    "\n",
    "    def do_work(self, spisok1, spisok2):\n",
    "        print('Lupa does work: ',[x - y for x, y in zip(spisok1, spisok2)])"
   ]
  },
  {
   "cell_type": "code",
   "execution_count": 38,
   "metadata": {},
   "outputs": [],
   "source": [
    "accountant = Accountant()\n",
    "pupa = Pupa()\n",
    "lupa = Lupa()"
   ]
  },
  {
   "cell_type": "code",
   "execution_count": 39,
   "metadata": {},
   "outputs": [
    {
     "name": "stdout",
     "output_type": "stream",
     "text": [
      "Pupa does work:  [2, 4, 6]\n",
      "Lupa does work:  [0, 0, 0]\n"
     ]
    }
   ],
   "source": [
    "pupa.do_work([1, 2, 3], [1, 2, 3])\n",
    "lupa.do_work([1, 2, 3], [1, 2, 3])"
   ]
  },
  {
   "cell_type": "code",
   "execution_count": 41,
   "metadata": {},
   "outputs": [],
   "source": [
    "accountant.give_salary(pupa)\n",
    "accountant.give_salary(lupa)"
   ]
  },
  {
   "cell_type": "code",
   "execution_count": 42,
   "metadata": {},
   "outputs": [
    {
     "name": "stdout",
     "output_type": "stream",
     "text": [
      "Pupa's salary:  200\n",
      "Pupa's salary:  400\n"
     ]
    }
   ],
   "source": [
    "print(\"Pupa's salary: \", pupa.counter)\n",
    "print(\"Pupa's salary: \", lupa.counter)"
   ]
  },
  {
   "cell_type": "code",
   "execution_count": null,
   "metadata": {},
   "outputs": [],
   "source": []
  }
 ],
 "metadata": {
  "kernelspec": {
   "display_name": "Python 3",
   "language": "python",
   "name": "python3"
  },
  "language_info": {
   "codemirror_mode": {
    "name": "ipython",
    "version": 3
   },
   "file_extension": ".py",
   "mimetype": "text/x-python",
   "name": "python",
   "nbconvert_exporter": "python",
   "pygments_lexer": "ipython3",
   "version": "3.9.13"
  }
 },
 "nbformat": 4,
 "nbformat_minor": 2
}
