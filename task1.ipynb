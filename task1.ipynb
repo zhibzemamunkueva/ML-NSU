{
 "cells": [
  {
   "cell_type": "code",
   "execution_count": 7,
   "metadata": {},
   "outputs": [
    {
     "name": "stdout",
     "output_type": "stream",
     "text": [
      "НОРМАЛЬНО\n"
     ]
    }
   ],
   "source": [
    "temp = float(input('Введите температуру в градусах Цельсия: '))\n",
    "if temp < 15.5: print('ХОЛОДНО')\n",
    "elif temp > 28: print('ЖАРКО')\n",
    "else: print('НОРМАЛЬНО')"
   ]
  },
  {
   "cell_type": "code",
   "execution_count": 12,
   "metadata": {},
   "outputs": [
    {
     "name": "stdout",
     "output_type": "stream",
     "text": [
      "МЯУ\n"
     ]
    }
   ],
   "source": [
    "n = int(input('Введите количество строк: '))\n",
    "lines = [input('Введите '+str(i+1)+' строку: ') for i in range(n)]\n",
    "\n",
    "if any('Кот' in line or 'кот' in line for line in lines):\n",
    "    print('МЯУ')\n",
    "else:\n",
    "    print('НЕТ')"
   ]
  },
  {
   "cell_type": "code",
   "execution_count": 13,
   "metadata": {},
   "outputs": [
    {
     "name": "stdout",
     "output_type": "stream",
     "text": [
      "НЕТ\n"
     ]
    }
   ],
   "source": [
    "words = []\n",
    "while True:\n",
    "    word = input('Введите слово: ')\n",
    "    if word == \"стоп\":\n",
    "        break\n",
    "    words.append(word)\n",
    "\n",
    "shortest_word = min(words, key=len)\n",
    "longest_word = max(words, key=len)\n",
    "\n",
    "if all(symbol in longest_word for symbol in shortest_word):\n",
    "    print('ДА')\n",
    "else:\n",
    "    print('НЕТ')"
   ]
  },
  {
   "cell_type": "code",
   "execution_count": 14,
   "metadata": {},
   "outputs": [
    {
     "name": "stdout",
     "output_type": "stream",
     "text": [
      "картину\n",
      "корзину\n",
      "картонку\n",
      "маленькую собачонку\n"
     ]
    }
   ],
   "source": [
    "n = int(input('Введите количество покупок: '))\n",
    "purchases = [input('Введите покупку: ') for i in range(n)]\n",
    "for purchase in purchases:\n",
    "    print(purchase)"
   ]
  },
  {
   "cell_type": "code",
   "execution_count": 16,
   "metadata": {},
   "outputs": [
    {
     "name": "stdout",
     "output_type": "stream",
     "text": [
      "ххооллоодд\n"
     ]
    }
   ],
   "source": [
    "word = input('Введите слово: ')\n",
    "print(''.join([symbol * 2 for symbol in word]))"
   ]
  },
  {
   "cell_type": "code",
   "execution_count": 17,
   "metadata": {},
   "outputs": [
    {
     "name": "stdout",
     "output_type": "stream",
     "text": [
      "Здравствуйте, Иван Смирнов.\n"
     ]
    }
   ],
   "source": [
    "def greet():\n",
    "    name = input('Введите имя: ')\n",
    "    surname = input('Введите фамилию: ')\n",
    "    print(f'Здравствуйте, {name} {surname}.')\n",
    "\n",
    "greet()"
   ]
  },
  {
   "cell_type": "code",
   "execution_count": 19,
   "metadata": {},
   "outputs": [
    {
     "name": "stdout",
     "output_type": "stream",
     "text": [
      "ding\n",
      "ding\n",
      "ding\n"
     ]
    }
   ],
   "source": [
    "class LittleBell:\n",
    "    def sound(self):\n",
    "        print(\"ding\")\n",
    "\n",
    "bell = LittleBell()\n",
    "bell.sound()\n",
    "bell.sound()\n",
    "bell.sound()"
   ]
  },
  {
   "cell_type": "code",
   "execution_count": null,
   "metadata": {},
   "outputs": [],
   "source": []
  }
 ],
 "metadata": {
  "kernelspec": {
   "display_name": "base",
   "language": "python",
   "name": "python3"
  },
  "language_info": {
   "codemirror_mode": {
    "name": "ipython",
    "version": 3
   },
   "file_extension": ".py",
   "mimetype": "text/x-python",
   "name": "python",
   "nbconvert_exporter": "python",
   "pygments_lexer": "ipython3",
   "version": "3.9.13"
  }
 },
 "nbformat": 4,
 "nbformat_minor": 2
}
